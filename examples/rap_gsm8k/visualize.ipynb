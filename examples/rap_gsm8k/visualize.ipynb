{
 "cells": [
  {
   "cell_type": "code",
   "execution_count": 1,
   "metadata": {
    "ExecuteTime": {
     "end_time": "2023-07-26T17:40:28.577480Z",
     "start_time": "2023-07-26T17:40:28.524400Z"
    }
   },
   "outputs": [],
   "source": [
    "import pickle"
   ]
  },
  {
   "cell_type": "code",
   "execution_count": 2,
   "metadata": {
    "ExecuteTime": {
     "end_time": "2023-07-26T17:40:29.773085Z",
     "start_time": "2023-07-26T17:40:28.531132Z"
    }
   },
   "outputs": [],
   "source": [
    "# add path\n",
    "import sys\n",
    "sys.path.append('..')\n",
    "import os\n",
    "# print(os.cwd())"
   ]
  },
  {
   "cell_type": "code",
   "execution_count": 2,
   "metadata": {},
   "outputs": [],
   "source": [
    "from reasoners.visualization import visualize"
   ]
  },
  {
   "cell_type": "code",
   "execution_count": 3,
   "metadata": {
    "ExecuteTime": {
     "end_time": "2023-07-26T17:44:32.732062Z",
     "start_time": "2023-07-26T17:44:32.477654Z"
    }
   },
   "outputs": [],
   "source": [
    "from reasoners.visualization.tree_snapshot import NodeData\n",
    "from reasoners.algorithm.mcts import MCTSNode"
   ]
  },
  {
   "cell_type": "code",
   "execution_count": 8,
   "metadata": {},
   "outputs": [],
   "source": [
    "mcts_result = pickle.load(open('/home/kaiser/llm-reasoners/logs/gsm8k_rap_v1.1/algo_output/1316.pkl', 'rb'))"
   ]
  },
  {
   "cell_type": "code",
   "execution_count": 9,
   "metadata": {},
   "outputs": [
    {
     "data": {
      "text/plain": [
       "[SubResult(sub_question='How many oranges can Ana pick and peel in 1 hour?', sub_answer='Ana spends 3 minutes peeling an orange, so she can pick and peel 60 / 3 = 20 oranges in 1 hour. The answer is 20.', confidence=1.0),\n",
       " SubResult(sub_question='How many oranges can Jane pick and peel in 1 hour?', sub_answer='Jane spends 4 minutes peeling an orange, so she can pick and peel 60 / 4 = 15 oranges in 1 hour. The answer is 15.', confidence=1.0),\n",
       " SubResult(sub_question='Now we can answer the question: how many more oranges will Ana have peeled than Jane after an hour?', sub_answer='Ana can pick and peel 20 oranges in 1 hour, while Jane can pick and peel 15 oranges in 1 hour, so Ana will have peeled 20 - 15 = 5 more oranges than Jane after an hour. The answer is 5.', confidence=1.0)]"
      ]
     },
     "execution_count": 9,
     "metadata": {},
     "output_type": "execute_result"
    }
   ],
   "source": [
    "mcts_result.terminal_state"
   ]
  },
  {
   "cell_type": "code",
   "execution_count": 10,
   "metadata": {},
   "outputs": [],
   "source": [
    "def gsm_node_data_factory(x: MCTSNode):\n",
    "    if not x.state:\n",
    "        return {}\n",
    "    return {\"question\": x.state[-1].sub_question, \"answer\": x.state[-1].sub_answer}"
   ]
  },
  {
   "cell_type": "code",
   "execution_count": 11,
   "metadata": {},
   "outputs": [
    {
     "name": "stdout",
     "output_type": "stream",
     "text": [
      "Visualizer URL: https://www.llm-reasoners.net/visualizer/4d447c7a-9c7d-42d9-8ddb-caf38d8a59f7?accessKey=fd30fe63\n"
     ]
    }
   ],
   "source": [
    "visualize(mcts_result, node_data_factory=gsm_node_data_factory)"
   ]
  },
  {
   "cell_type": "markdown",
   "metadata": {},
   "source": []
  },
  {
   "cell_type": "code",
   "execution_count": null,
   "metadata": {},
   "outputs": [],
   "source": []
  },
  {
   "cell_type": "code",
   "execution_count": null,
   "metadata": {},
   "outputs": [],
   "source": []
  }
 ],
 "metadata": {
  "kernelspec": {
   "display_name": "rap",
   "language": "python",
   "name": "python3"
  },
  "language_info": {
   "codemirror_mode": {
    "name": "ipython",
    "version": 3
   },
   "file_extension": ".py",
   "mimetype": "text/x-python",
   "name": "python",
   "nbconvert_exporter": "python",
   "pygments_lexer": "ipython3",
   "version": "3.10.13"
  },
  "orig_nbformat": 4
 },
 "nbformat": 4,
 "nbformat_minor": 2
}
