{
 "cells": [
  {
   "cell_type": "code",
   "execution_count": 1,
   "metadata": {
    "ExecuteTime": {
     "end_time": "2023-07-22T15:23:26.493869Z",
     "start_time": "2023-07-22T15:23:26.490035Z"
    }
   },
   "outputs": [],
   "source": [
    "# import modules\n",
    "import pickle\n",
    "import sys\n",
    "sys.path.append('..') \n",
    "# the data structure for blocksworld is defined in the parent directory\n",
    "from reasoners.visualization import visualize"
   ]
  },
  {
   "cell_type": "code",
   "execution_count": 2,
   "metadata": {},
   "outputs": [],
   "source": [
    "# from tot_inference import BWState"
   ]
  },
  {
   "cell_type": "code",
   "execution_count": 2,
   "metadata": {},
   "outputs": [],
   "source": [
    "import pickle\n",
    "with open(\"/home/kaiser/llm-reasoners/logs/prontoqa_MCTS/02292024-190200/algo_output/4.pkl\", 'rb') as f:\n",
    "    mcts_result = pickle.load(f)"
   ]
  },
  {
   "cell_type": "code",
   "execution_count": 3,
   "metadata": {},
   "outputs": [
    {
     "data": {
      "text/plain": [
       "MCTSResult(terminal_state=None, cum_reward=-inf, trace=None, trace_of_nodes=None, tree_state=<reasoners.algorithm.mcts.MCTSNode object at 0x7fda2a9772b0>, trace_in_each_iter=[[<reasoners.algorithm.mcts.MCTSNode object at 0x7fd9360ece80>, <reasoners.algorithm.mcts.MCTSNode object at 0x7fd9360ecf40>, <reasoners.algorithm.mcts.MCTSNode object at 0x7fd9360ed090>, <reasoners.algorithm.mcts.MCTSNode object at 0x7fd9360ed1e0>, <reasoners.algorithm.mcts.MCTSNode object at 0x7fd9360ed330>, <reasoners.algorithm.mcts.MCTSNode object at 0x7fd9360ed510>, <reasoners.algorithm.mcts.MCTSNode object at 0x7fd9360ed810>], [<reasoners.algorithm.mcts.MCTSNode object at 0x7fd9360ede70>, <reasoners.algorithm.mcts.MCTSNode object at 0x7fd9360edf60>, <reasoners.algorithm.mcts.MCTSNode object at 0x7fd9360eeda0>, <reasoners.algorithm.mcts.MCTSNode object at 0x7fd9360eeef0>, <reasoners.algorithm.mcts.MCTSNode object at 0x7fd9360ef040>, <reasoners.algorithm.mcts.MCTSNode object at 0x7fd9360ef340>, <reasoners.algorithm.mcts.MCTSNode object at 0x7fd9360ef5b0>], [<reasoners.algorithm.mcts.MCTSNode object at 0x7fd9360efaf0>, <reasoners.algorithm.mcts.MCTSNode object at 0x7fd9360efc10>, <reasoners.algorithm.mcts.MCTSNode object at 0x7fd936104ac0>, <reasoners.algorithm.mcts.MCTSNode object at 0x7fd936104c40>, <reasoners.algorithm.mcts.MCTSNode object at 0x7fd936104dc0>, <reasoners.algorithm.mcts.MCTSNode object at 0x7fd9361050f0>, <reasoners.algorithm.mcts.MCTSNode object at 0x7fd936105390>], [<reasoners.algorithm.mcts.MCTSNode object at 0x7fd936105900>, <reasoners.algorithm.mcts.MCTSNode object at 0x7fd936105a50>, <reasoners.algorithm.mcts.MCTSNode object at 0x7fd9361068f0>, <reasoners.algorithm.mcts.MCTSNode object at 0x7fd936107640>, <reasoners.algorithm.mcts.MCTSNode object at 0x7fd936107820>, <reasoners.algorithm.mcts.MCTSNode object at 0x7fd936107970>, <reasoners.algorithm.mcts.MCTSNode object at 0x7fd936107b50>], [<reasoners.algorithm.mcts.MCTSNode object at 0x7fd93611c040>, <reasoners.algorithm.mcts.MCTSNode object at 0x7fd93611c1c0>, <reasoners.algorithm.mcts.MCTSNode object at 0x7fd93611d090>, <reasoners.algorithm.mcts.MCTSNode object at 0x7fd93611de10>, <reasoners.algorithm.mcts.MCTSNode object at 0x7fd93611e020>, <reasoners.algorithm.mcts.MCTSNode object at 0x7fd93611e1a0>, <reasoners.algorithm.mcts.MCTSNode object at 0x7fd93611e3b0>], [<reasoners.algorithm.mcts.MCTSNode object at 0x7fd93611e890>, <reasoners.algorithm.mcts.MCTSNode object at 0x7fd93611ea40>, <reasoners.algorithm.mcts.MCTSNode object at 0x7fd93611ec80>, <reasoners.algorithm.mcts.MCTSNode object at 0x7fd93611ee00>, <reasoners.algorithm.mcts.MCTSNode object at 0x7fd93611ef80>, <reasoners.algorithm.mcts.MCTSNode object at 0x7fd93611f190>, <reasoners.algorithm.mcts.MCTSNode object at 0x7fd93611f4c0>], [<reasoners.algorithm.mcts.MCTSNode object at 0x7fd936131270>, <reasoners.algorithm.mcts.MCTSNode object at 0x7fd936131450>, <reasoners.algorithm.mcts.MCTSNode object at 0x7fd936132470>, <reasoners.algorithm.mcts.MCTSNode object at 0x7fd936133220>, <reasoners.algorithm.mcts.MCTSNode object at 0x7fd936133460>, <reasoners.algorithm.mcts.MCTSNode object at 0x7fd936133610>, <reasoners.algorithm.mcts.MCTSNode object at 0x7fd936133850>], [<reasoners.algorithm.mcts.MCTSNode object at 0x7fd936133d60>, <reasoners.algorithm.mcts.MCTSNode object at 0x7fd936133f70>, <reasoners.algorithm.mcts.MCTSNode object at 0x7fd936149000>, <reasoners.algorithm.mcts.MCTSNode object at 0x7fd936149de0>, <reasoners.algorithm.mcts.MCTSNode object at 0x7fd93614a050>, <reasoners.algorithm.mcts.MCTSNode object at 0x7fd93614a230>, <reasoners.algorithm.mcts.MCTSNode object at 0x7fd93614a4a0>], [<reasoners.algorithm.mcts.MCTSNode object at 0x7fd93614a9e0>, <reasoners.algorithm.mcts.MCTSNode object at 0x7fd93614ac20>, <reasoners.algorithm.mcts.MCTSNode object at 0x7fd93614bca0>, <reasoners.algorithm.mcts.MCTSNode object at 0x7fd936158af0>, <reasoners.algorithm.mcts.MCTSNode object at 0x7fd936158d00>, <reasoners.algorithm.mcts.MCTSNode object at 0x7fd936158e50>, <reasoners.algorithm.mcts.MCTSNode object at 0x7fd936158fa0>], [<reasoners.algorithm.mcts.MCTSNode object at 0x7fd936159d50>, <reasoners.algorithm.mcts.MCTSNode object at 0x7fd936159fc0>, <reasoners.algorithm.mcts.MCTSNode object at 0x7fd93615b070>, <reasoners.algorithm.mcts.MCTSNode object at 0x7fd93615beb0>, <reasoners.algorithm.mcts.MCTSNode object at 0x7fd93616c130>, <reasoners.algorithm.mcts.MCTSNode object at 0x7fd93616c2b0>, <reasoners.algorithm.mcts.MCTSNode object at 0x7fd93616c430>]], tree_state_after_each_iter=[<reasoners.algorithm.mcts.MCTSNode object at 0x7fd9360ece80>, <reasoners.algorithm.mcts.MCTSNode object at 0x7fd9360ede70>, <reasoners.algorithm.mcts.MCTSNode object at 0x7fd9360efaf0>, <reasoners.algorithm.mcts.MCTSNode object at 0x7fd936105900>, <reasoners.algorithm.mcts.MCTSNode object at 0x7fd93611c040>, <reasoners.algorithm.mcts.MCTSNode object at 0x7fd93611e890>, <reasoners.algorithm.mcts.MCTSNode object at 0x7fd936131270>, <reasoners.algorithm.mcts.MCTSNode object at 0x7fd936133d60>, <reasoners.algorithm.mcts.MCTSNode object at 0x7fd93614a9e0>, <reasoners.algorithm.mcts.MCTSNode object at 0x7fd936159d50>], aggregated_result=None)"
      ]
     },
     "execution_count": 3,
     "metadata": {},
     "output_type": "execute_result"
    }
   ],
   "source": [
    "mcts_result"
   ]
  },
  {
   "cell_type": "code",
   "execution_count": 4,
   "metadata": {},
   "outputs": [
    {
     "ename": "TypeError",
     "evalue": "'NoneType' object is not subscriptable",
     "output_type": "error",
     "traceback": [
      "\u001b[0;31m---------------------------------------------------------------------------\u001b[0m",
      "\u001b[0;31mTypeError\u001b[0m                                 Traceback (most recent call last)",
      "Cell \u001b[0;32mIn[4], line 1\u001b[0m\n\u001b[0;32m----> 1\u001b[0m \u001b[38;5;124m\"\u001b[39m\u001b[38;5;130;01m\\n\u001b[39;00m\u001b[38;5;124m\"\u001b[39m\u001b[38;5;241m.\u001b[39mjoin([mcts_result\u001b[38;5;241m.\u001b[39mtrace[\u001b[38;5;241m0\u001b[39m][i]\u001b[38;5;241m.\u001b[39mbody \u001b[38;5;28;01mfor\u001b[39;00m i \u001b[38;5;129;01min\u001b[39;00m \u001b[38;5;28mrange\u001b[39m(\u001b[38;5;241m1\u001b[39m, \u001b[38;5;28mlen\u001b[39m(\u001b[43mmcts_result\u001b[49m\u001b[38;5;241;43m.\u001b[39;49m\u001b[43mtrace\u001b[49m\u001b[43m[\u001b[49m\u001b[38;5;241;43m0\u001b[39;49m\u001b[43m]\u001b[49m) \u001b[38;5;241m-\u001b[39m \u001b[38;5;241m1\u001b[39m)])\n",
      "\u001b[0;31mTypeError\u001b[0m: 'NoneType' object is not subscriptable"
     ]
    }
   ],
   "source": [
    "\"\\n\".join([mcts_result.trace[0][i].body for i in range(1, len(mcts_result.trace[0]) - 1)])"
   ]
  },
  {
   "cell_type": "code",
   "execution_count": 5,
   "metadata": {},
   "outputs": [],
   "source": [
    "mcts_result.trace"
   ]
  },
  {
   "cell_type": "markdown",
   "metadata": {},
   "source": []
  },
  {
   "cell_type": "markdown",
   "metadata": {},
   "source": []
  },
  {
   "cell_type": "code",
   "execution_count": 10,
   "metadata": {},
   "outputs": [],
   "source": [
    "# customize the information to show (optional)\n",
    "from reasoners.visualization.tree_snapshot import NodeData, EdgeData\n",
    "from reasoners.algorithm.mcts import MCTSNode\n",
    "\n",
    "def blocksworld_node_data_factory(n: MCTSNode) -> NodeData:\n",
    "    return NodeData({\"state\": n.state.body if n.state else None})\n",
    "def blocksworld_edge_data_factory(n) -> EdgeData:\n",
    "    return EdgeData({\"Q\":n.Q, \"intuition\": n.fast_reward_details[\"intuition\"], \"self_eval\": n.fast_reward_details[\"self-eval\"], \"action\": n.action})"
   ]
  },
  {
   "cell_type": "code",
   "execution_count": 11,
   "metadata": {},
   "outputs": [
    {
     "data": {
      "text/plain": [
       "{'self-eval': 0.30404168367385864, 'intuition': -1.3922966}"
      ]
     },
     "execution_count": 11,
     "metadata": {},
     "output_type": "execute_result"
    }
   ],
   "source": [
    "mcts_result.trace_in_each_iter[-1][1].fast_reward_details"
   ]
  },
  {
   "cell_type": "code",
   "execution_count": 12,
   "metadata": {
    "collapsed": false
   },
   "outputs": [
    {
     "name": "stdout",
     "output_type": "stream",
     "text": [
      "Visualizer URL: https://www.llm-reasoners.net/visualizer/1ad2f7bb-3e9a-42e7-afac-c17f7c7426db?accessKey=2c503385\n"
     ]
    }
   ],
   "source": [
    "# let's go!\n",
    "visualize(mcts_result, edge_data_factory=blocksworld_edge_data_factory, node_data_factory=blocksworld_node_data_factory)"
   ]
  },
  {
   "cell_type": "code",
   "execution_count": 14,
   "metadata": {},
   "outputs": [
    {
     "ename": "AttributeError",
     "evalue": "'BeamSearchResult' object has no attribute 'state'",
     "output_type": "error",
     "traceback": [
      "\u001b[0;31m---------------------------------------------------------------------------\u001b[0m",
      "\u001b[0;31mAttributeError\u001b[0m                            Traceback (most recent call last)",
      "\u001b[1;32m/home/shibo/llm-reasoners/examples/blocksworld/visualize.ipynb Cell 8\u001b[0m line \u001b[0;36m1\n\u001b[0;32m----> <a href='vscode-notebook-cell://ssh-remote%2Bserv9/home/shibo/llm-reasoners/examples/blocksworld/visualize.ipynb#X12sdnNjb2RlLXJlbW90ZQ%3D%3D?line=0'>1</a>\u001b[0m beam_result\u001b[39m.\u001b[39;49mstate\n",
      "\u001b[0;31mAttributeError\u001b[0m: 'BeamSearchResult' object has no attribute 'state'"
     ]
    }
   ],
   "source": [
    "beam_result.state"
   ]
  },
  {
   "cell_type": "code",
   "execution_count": null,
   "metadata": {},
   "outputs": [],
   "source": []
  }
 ],
 "metadata": {
  "kernelspec": {
   "display_name": "rap",
   "language": "python",
   "name": "python3"
  },
  "language_info": {
   "codemirror_mode": {
    "name": "ipython",
    "version": 3
   },
   "file_extension": ".py",
   "mimetype": "text/x-python",
   "name": "python",
   "nbconvert_exporter": "python",
   "pygments_lexer": "ipython3",
   "version": "3.10.13"
  },
  "orig_nbformat": 4
 },
 "nbformat": 4,
 "nbformat_minor": 2
}
